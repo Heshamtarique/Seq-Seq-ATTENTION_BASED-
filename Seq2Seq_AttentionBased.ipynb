{
  "nbformat": 4,
  "nbformat_minor": 0,
  "metadata": {
    "colab": {
      "name": "Seq2Seq_AttentionBased.ipynb",
      "provenance": []
    },
    "kernelspec": {
      "name": "python3",
      "display_name": "Python 3"
    },
    "language_info": {
      "name": "python"
    },
    "accelerator": "GPU"
  },
  "cells": [
    {
      "cell_type": "markdown",
      "metadata": {
        "id": "8vMZKDxP2boH"
      },
      "source": [
        "### Sequence to Sequence attention model for machine translation\n",
        "### This notebook trains a sequence to sequence (seq2seq) model with two different attentions implemented for Spanish to English translation."
      ]
    },
    {
      "cell_type": "code",
      "metadata": {
        "colab": {
          "base_uri": "https://localhost:8080/"
        },
        "id": "8R8nOjZK2QmA",
        "outputId": "0f0bc0f1-a400-4110-a93b-e6f1b8ea007e"
      },
      "source": [
        "import tensorflow as tf\n",
        "print(tf.__version__)\n",
        "import matplotlib.pyplot as plt\n",
        "import matplotlib.ticker as ticker\n",
        "from sklearn.model_selection import train_test_split\n",
        "\n",
        "import unicodedata\n",
        "import re\n",
        "import numpy as np\n",
        "import os\n",
        "import io\n",
        "import time"
      ],
      "execution_count": null,
      "outputs": [
        {
          "output_type": "stream",
          "text": [
            "2.4.1\n"
          ],
          "name": "stdout"
        }
      ]
    },
    {
      "cell_type": "markdown",
      "metadata": {
        "id": "d3z9FhRz2kk9"
      },
      "source": [
        "#### Load data set\n",
        "#### Clean the sentences by removing special characters.\n",
        "#### Add a start and end token to each sentence.\n",
        "#### Create a word index and reverse word index (dictionaries mapping from word → id and id → word).\n",
        "#### Pad each sentence to a maximum length."
      ]
    },
    {
      "cell_type": "code",
      "metadata": {
        "colab": {
          "base_uri": "https://localhost:8080/"
        },
        "id": "fYSiLwZp2jnD",
        "outputId": "6b92fe1f-4421-450c-e6da-a76c287991fc"
      },
      "source": [
        "# Download the file\n",
        "path_to_zip = tf.keras.utils.get_file(\n",
        "    'spa-eng.zip', origin='http://storage.googleapis.com/download.tensorflow.org/data/spa-eng.zip',\n",
        "    extract=True)\n",
        "\n",
        "path_to_file = os.path.dirname(path_to_zip)+\"/spa-eng/spa.txt\""
      ],
      "execution_count": null,
      "outputs": [
        {
          "output_type": "stream",
          "text": [
            "Downloading data from http://storage.googleapis.com/download.tensorflow.org/data/spa-eng.zip\n",
            "2646016/2638744 [==============================] - 0s 0us/step\n"
          ],
          "name": "stdout"
        }
      ]
    },
    {
      "cell_type": "code",
      "metadata": {
        "id": "aovEvEz92Qo_"
      },
      "source": [
        "# Converts the unicode file to ascii\n",
        "def unicode_to_ascii(s):\n",
        "  return ''.join(c for c in unicodedata.normalize('NFD', s)\n",
        "      if unicodedata.category(c) != 'Mn')\n",
        "\n",
        "\n",
        "def preprocess_sentence(w):\n",
        "  w = unicode_to_ascii(w.lower().strip())\n",
        "\n",
        "  # creating a space between a word and the punctuation following it\n",
        "  # eg: \"he is a boy.\" => \"he is a boy .\"\n",
        "  # Reference:- https://stackoverflow.com/questions/3645931/python-padding-punctuation-with-white-spaces-keeping-punctuation\n",
        "  w = re.sub(r\"([?.!,¿])\", r\" \\1 \", w)\n",
        "  w = re.sub(r'[\" \"]+', \" \", w)\n",
        "\n",
        "  # replacing everything with space except (a-z, A-Z, \".\", \"?\", \"!\", \",\",\"¿\")\n",
        "  w = re.sub(r\"[^a-zA-Z?.!,¿]+\", \" \", w)\n",
        "\n",
        "  # remove extra space\n",
        "  w = w.strip()\n",
        "\n",
        "  # adding a start and an end token to the sentence\n",
        "  # so that the model know when to start and stop predicting.\n",
        "  w = '<start> ' + w + ' <end>'\n",
        "  return w"
      ],
      "execution_count": null,
      "outputs": []
    },
    {
      "cell_type": "code",
      "metadata": {
        "colab": {
          "base_uri": "https://localhost:8080/"
        },
        "id": "YaX2BZLw2QuC",
        "outputId": "cebf6a56-1801-4683-ceb4-dc87c84a9a5c"
      },
      "source": [
        "en_sentence = u\"May I borrow this @ book?\"\n",
        "sp_sentence = u\"¿Puedo tomar prestado este libro?\"\n",
        "print(preprocess_sentence(en_sentence))\n",
        "print(preprocess_sentence(sp_sentence))\n",
        "print(preprocess_sentence(sp_sentence).encode(\"UTF-8\"))"
      ],
      "execution_count": null,
      "outputs": [
        {
          "output_type": "stream",
          "text": [
            "<start> may i borrow this book ? <end>\n",
            "<start> ¿ puedo tomar prestado este libro ? <end>\n",
            "b'<start> \\xc2\\xbf puedo tomar prestado este libro ? <end>'\n"
          ],
          "name": "stdout"
        }
      ]
    },
    {
      "cell_type": "code",
      "metadata": {
        "colab": {
          "base_uri": "https://localhost:8080/"
        },
        "id": "u2XA7Yag2Qw_",
        "outputId": "82e73a69-0343-4a0e-f222-bcec3d4ab737"
      },
      "source": [
        "# Return word pairs in the format: [ENGLISH, SPANISH]\n",
        "def create_dataset(path, num_examples):\n",
        "  lines = io.open(path, encoding='UTF-8').read().strip().split('\\n')\n",
        "  word_pairs = [[preprocess_sentence(w) for w in l.split('\\t')]  for l in lines[:num_examples]]\n",
        "  return zip(*word_pairs)\n",
        "\n",
        "en, sp = create_dataset(path_to_file, None)\n",
        "print(en[-1])\n",
        "print(sp[-1])\n",
        "print(len(en), len(sp))"
      ],
      "execution_count": null,
      "outputs": [
        {
          "output_type": "stream",
          "text": [
            "<start> if you want to sound like a native speaker , you must be willing to practice saying the same sentence over and over in the same way that banjo players practice the same phrase over and over until they can play it correctly and at the desired tempo . <end>\n",
            "<start> si quieres sonar como un hablante nativo , debes estar dispuesto a practicar diciendo la misma frase una y otra vez de la misma manera en que un musico de banjo practica el mismo fraseo una y otra vez hasta que lo puedan tocar correctamente y en el tiempo esperado . <end>\n",
            "118964 118964\n"
          ],
          "name": "stdout"
        }
      ]
    },
    {
      "cell_type": "code",
      "metadata": {
        "id": "LwT66C9J2Q2y"
      },
      "source": [
        "# Tokenize the sentence into list of words(integers) and pad the sequence to the same length\n",
        "def tokenize(lang):\n",
        "  lang_tokenizer = tf.keras.preprocessing.text.Tokenizer(\n",
        "      filters='')\n",
        "  lang_tokenizer.fit_on_texts(lang)\n",
        "\n",
        "  tensor = lang_tokenizer.texts_to_sequences(lang)\n",
        "\n",
        "  tensor = tf.keras.preprocessing.sequence.pad_sequences(tensor,\n",
        "                                                         padding='post')\n",
        "  return tensor, lang_tokenizer"
      ],
      "execution_count": null,
      "outputs": []
    },
    {
      "cell_type": "code",
      "metadata": {
        "id": "4osaAxpp2Q5u"
      },
      "source": [
        "def load_dataset(path, num_examples=None):\n",
        "  # creating cleaned input, output pairs\n",
        "  targ_lang, inp_lang = create_dataset(path, num_examples)\n",
        "\n",
        "  input_tensor, inp_lang_tokenizer = tokenize(inp_lang)\n",
        "  target_tensor, targ_lang_tokenizer = tokenize(targ_lang)\n",
        "\n",
        "  return input_tensor, target_tensor, inp_lang_tokenizer, targ_lang_tokenizer"
      ],
      "execution_count": null,
      "outputs": []
    },
    {
      "cell_type": "code",
      "metadata": {
        "colab": {
          "base_uri": "https://localhost:8080/"
        },
        "id": "Bsb61NTl2Q8i",
        "outputId": "4cd77057-3bdf-4a14-e653-bf82c3c26d50"
      },
      "source": [
        "# Try experimenting with the size of that dataset\n",
        "num_examples = 30000\n",
        "input_tensor, target_tensor, inp_lang, targ_lang = load_dataset(path_to_file, num_examples)\n",
        "\n",
        "# Calculate max_length of the target tensors\n",
        "max_length_targ, max_length_inp = target_tensor.shape[1], input_tensor.shape[1]\n",
        "print(max_length_targ, max_length_inp)"
      ],
      "execution_count": null,
      "outputs": [
        {
          "output_type": "stream",
          "text": [
            "11 16\n"
          ],
          "name": "stdout"
        }
      ]
    },
    {
      "cell_type": "code",
      "metadata": {
        "colab": {
          "base_uri": "https://localhost:8080/"
        },
        "id": "fLi-cF3l2Q_W",
        "outputId": "15f71e72-36a1-4b2f-8fe4-fff704f8665d"
      },
      "source": [
        "# Creating training and validation sets using an 80-20 split\n",
        "input_tensor_train, input_tensor_val, target_tensor_train, target_tensor_val = train_test_split(input_tensor, target_tensor, test_size=0.2)\n",
        "\n",
        "# Show length\n",
        "print(len(input_tensor_train), len(target_tensor_train), len(input_tensor_val), len(target_tensor_val))\n",
        "print(input_tensor_train[0])\n",
        "print(target_tensor_train[0])"
      ],
      "execution_count": null,
      "outputs": [
        {
          "output_type": "stream",
          "text": [
            "24000 24000 6000 6000\n",
            "[   1    6  315 1039   21  175    5    2    0    0    0    0    0    0\n",
            "    0    0]\n",
            "[  1  52 154   8   9 165   7   2   0   0   0]\n"
          ],
          "name": "stdout"
        }
      ]
    },
    {
      "cell_type": "markdown",
      "metadata": {
        "id": "r_Ydrump3D5V"
      },
      "source": [
        "#### Create a tf.data datasest\n",
        "#### The tf.data.Dataset API supports writing descriptive and efficient input pipelines. Dataset usage follows a common pattern:\n",
        "#### Create a source dataset from your input data.\n",
        "#### Apply dataset transformations to preprocess the data.\n",
        "#### Iterate over the dataset and process the elements.\n",
        "#### Iteration happens in a streaming fashion, so the full dataset does not need to fit into memory."
      ]
    },
    {
      "cell_type": "code",
      "metadata": {
        "colab": {
          "base_uri": "https://localhost:8080/"
        },
        "id": "mc_4oGi6-kfh",
        "outputId": "88534d05-51db-48f1-e57a-9db68207aadb"
      },
      "source": [
        "![picture](https://drive.google.com/file/d/1u4tMhmBAd9SNQZ9TScW0p4s0gbdqhJ1S/view?usp=sharing)"
      ],
      "execution_count": null,
      "outputs": [
        {
          "output_type": "stream",
          "text": [
            "/bin/bash: -c: line 0: syntax error near unexpected token `https://drive.google.com/file/d/1u4tMhmBAd9SNQZ9TScW0p4s0gbdqhJ1S/view?usp=sharing'\n",
            "/bin/bash: -c: line 0: `[picture](https://drive.google.com/file/d/1u4tMhmBAd9SNQZ9TScW0p4s0gbdqhJ1S/view?usp=sharing)'\n"
          ],
          "name": "stdout"
        }
      ]
    },
    {
      "cell_type": "markdown",
      "metadata": {
        "id": "4ZJ2dUvC_HWF"
      },
      "source": [
        "![picture](https://drive.google.com/file/d/1u4tMhmBAd9SNQZ9TScW0p4s0gbdqhJ1S/view?usp=sharing)"
      ]
    },
    {
      "cell_type": "code",
      "metadata": {
        "colab": {
          "base_uri": "https://localhost:8080/"
        },
        "id": "Yir9JPLt2RCe",
        "outputId": "2d202b67-83f3-41a0-974b-3a77778fc822"
      },
      "source": [
        "# Configuration \n",
        "BUFFER_SIZE = len(input_tensor_train)\n",
        "BATCH_SIZE = 64\n",
        "steps_per_epoch = len(input_tensor_train)//BATCH_SIZE\n",
        "steps_per_epoch_val = len(input_tensor_val)//BATCH_SIZE\n",
        "embedding_dim = 256  # for word embedding\n",
        "units = 1024  # dimensionality of the output space of RNN\n",
        "vocab_inp_size = len(inp_lang.word_index)+1\n",
        "vocab_tar_size = len(targ_lang.word_index)+1\n",
        "\n",
        "dataset = tf.data.Dataset.from_tensor_slices((input_tensor_train, target_tensor_train)).shuffle(BUFFER_SIZE)\n",
        "dataset = dataset.batch(BATCH_SIZE, drop_remainder=True)\n",
        "validation_dataset = tf.data.Dataset.from_tensor_slices((input_tensor_val, target_tensor_val)).shuffle(BUFFER_SIZE)\n",
        "validation_dataset = validation_dataset.batch(BATCH_SIZE, drop_remainder=True)\n",
        "\n",
        "example_input_batch, example_target_batch = next(iter(dataset))\n",
        "example_input_batch.shape, example_target_batch.shape"
      ],
      "execution_count": null,
      "outputs": [
        {
          "output_type": "execute_result",
          "data": {
            "text/plain": [
              "(TensorShape([64, 16]), TensorShape([64, 11]))"
            ]
          },
          "metadata": {
            "tags": []
          },
          "execution_count": 10
        }
      ]
    },
    {
      "cell_type": "markdown",
      "metadata": {
        "id": "fueGF9qe3Rxn"
      },
      "source": [
        "#### Basic seq2seq model: encoder and decoder\n",
        "#### Model groups layers into an object with training and inference features. Two ways to define tf model:\n",
        "\n",
        "#### Basic sequence to sequence model without attention: alt text"
      ]
    },
    {
      "cell_type": "code",
      "metadata": {
        "id": "yU3xTNav21fP"
      },
      "source": [
        "class Encoder(tf.keras.Model):\n",
        "  def __init__(self, vocab_size, embedding_dim, enc_units, batch_sz):\n",
        "    super(Encoder, self).__init__()\n",
        "    self.batch_sz = batch_sz\n",
        "    self.enc_units = enc_units\n",
        "    self.embedding = tf.keras.layers.Embedding(vocab_size, embedding_dim)\n",
        "    self.gru = tf.keras.layers.GRU(self.enc_units,\n",
        "                                   return_sequences=True,  # Whether to return the last output in the output sequence, or the full sequence. \n",
        "                                   return_state=True,  # Whether to return the last state in addition to the output.\n",
        "                                   recurrent_initializer='glorot_uniform')\n",
        "\n",
        "  def call(self, x, hidden):\n",
        "    x = self.embedding(x)\n",
        "    output, state = self.gru(x, initial_state = hidden)\n",
        "    return output, state\n",
        "\n",
        "  def initialize_hidden_state(self):\n",
        "    return tf.zeros((self.batch_sz, self.enc_units))\n"
      ],
      "execution_count": null,
      "outputs": []
    },
    {
      "cell_type": "code",
      "metadata": {
        "colab": {
          "base_uri": "https://localhost:8080/"
        },
        "id": "FGxpOeuR21iF",
        "outputId": "b6d17f6f-c591-450b-de2d-525c12ab3888"
      },
      "source": [
        "encoder = Encoder(vocab_inp_size, embedding_dim, units, BATCH_SIZE)\n",
        "\n",
        "# sample input\n",
        "sample_hidden = encoder.initialize_hidden_state()\n",
        "sample_output, sample_hidden = encoder(example_input_batch, sample_hidden)\n",
        "print ('Encoder output shape: (batch size, sequence length, units) {}'.format(sample_output.shape))\n",
        "print ('Encoder Hidden state shape: (batch size, units) {}'.format(sample_hidden.shape))"
      ],
      "execution_count": null,
      "outputs": [
        {
          "output_type": "stream",
          "text": [
            "Encoder output shape: (batch size, sequence length, units) (64, 16, 1024)\n",
            "Encoder Hidden state shape: (batch size, units) (64, 1024)\n"
          ],
          "name": "stdout"
        }
      ]
    },
    {
      "cell_type": "code",
      "metadata": {
        "id": "SA29_rpd21ng"
      },
      "source": [
        "class Decoder(tf.keras.Model):\n",
        "  def __init__(self, vocab_size, embedding_dim, dec_units, batch_sz):\n",
        "    super(Decoder, self).__init__()\n",
        "    self.batch_sz = batch_sz\n",
        "    self.dec_units = dec_units\n",
        "    self.embedding = tf.keras.layers.Embedding(vocab_size, embedding_dim)\n",
        "    self.gru = tf.keras.layers.GRU(self.dec_units,\n",
        "                                   return_sequences=True,\n",
        "                                   return_state=True,\n",
        "                                   recurrent_initializer='glorot_uniform')\n",
        "    self.fc = tf.keras.layers.Dense(vocab_size)\n",
        "\n",
        "\n",
        "  def call(self, x, hidden):\n",
        "    # x shape after passing through embedding == (batch_size, 1, embedding_dim)\n",
        "    x = self.embedding(x)\n",
        "\n",
        "    # passing the concatenated vector to the GRU\n",
        "    output, state = self.gru(x, initial_state = hidden)\n",
        "\n",
        "    # output shape == (batch_size * 1, hidden_size)\n",
        "    output = tf.reshape(output, (-1, output.shape[2]))\n",
        "\n",
        "    # output shape == (batch_size, vocab)\n",
        "    x = self.fc(output)\n",
        "    return x, state"
      ],
      "execution_count": null,
      "outputs": []
    },
    {
      "cell_type": "code",
      "metadata": {
        "colab": {
          "base_uri": "https://localhost:8080/"
        },
        "id": "E7qVwvbB21qs",
        "outputId": "357e4a4f-a344-42e2-feb4-e3330056f257"
      },
      "source": [
        "tf.reshape([[1,2,3],[4,5,6]], (-1, 2))"
      ],
      "execution_count": null,
      "outputs": [
        {
          "output_type": "execute_result",
          "data": {
            "text/plain": [
              "<tf.Tensor: shape=(3, 2), dtype=int32, numpy=\n",
              "array([[1, 2],\n",
              "       [3, 4],\n",
              "       [5, 6]], dtype=int32)>"
            ]
          },
          "metadata": {
            "tags": []
          },
          "execution_count": 14
        }
      ]
    },
    {
      "cell_type": "code",
      "metadata": {
        "colab": {
          "base_uri": "https://localhost:8080/"
        },
        "id": "fTWGEkxD21uZ",
        "outputId": "06dac119-591e-475d-d13a-bf044988d9d4"
      },
      "source": [
        "decoder = Decoder(vocab_tar_size, embedding_dim, units, BATCH_SIZE)\n",
        "\n",
        "sample_decoder_output, _ = decoder(tf.random.uniform((BATCH_SIZE, 1)),\n",
        "                                      sample_hidden)\n",
        "\n",
        "print ('Decoder output shape: (batch_size, vocab size) {}'.format(sample_decoder_output.shape))"
      ],
      "execution_count": null,
      "outputs": [
        {
          "output_type": "stream",
          "text": [
            "Decoder output shape: (batch_size, vocab size) (64, 4935)\n"
          ],
          "name": "stdout"
        }
      ]
    },
    {
      "cell_type": "code",
      "metadata": {
        "id": "MUQm51ib3i7J"
      },
      "source": [
        "class DotProductAttention(tf.keras.layers.Layer):\n",
        "  def call(self, query, values):\n",
        "    # query hidden state shape == (batch_size, hidden size)\n",
        "    # query_with_time_axis shape == (batch_size, 1, hidden size)\n",
        "    # values shape == (batch_size, max_len, hidden size)\n",
        "    # we are doing this to broadcast addition along the time axis to calculate the score\n",
        "    query_with_time_axis = tf.expand_dims(query, 1)\n",
        "\n",
        "    # inner product, score shape == (batch_size, max_length, 1)\n",
        "    score = query_with_time_axis * values\n",
        "    score = tf.reduce_sum(score, axis=2)\n",
        "    score = tf.expand_dims(score, 2)\n",
        "    \n",
        "    # attention_weights shape == (batch_size, max_length, 1)\n",
        "    attention_weights = tf.nn.softmax(score, axis=1)\n",
        "\n",
        "    # context_vector shape after sum == (batch_size, hidden_size)\n",
        "    context_vector = attention_weights * values\n",
        "    context_vector = tf.reduce_sum(context_vector, axis=1)\n",
        "\n",
        "    return context_vector, attention_weights"
      ],
      "execution_count": null,
      "outputs": []
    },
    {
      "cell_type": "code",
      "metadata": {
        "colab": {
          "base_uri": "https://localhost:8080/"
        },
        "id": "n9JfdkGu3i_C",
        "outputId": "4f9489a6-174f-4ca7-b566-917df0275989"
      },
      "source": [
        "attention_layer = DotProductAttention()\n",
        "attention_result, attention_weights = attention_layer(sample_hidden, sample_output)\n",
        "\n",
        "print(\"Attention result shape: (batch size, units) {}\".format(attention_result.shape))\n",
        "print(\"Attention weights shape: (batch_size, sequence_length, 1) {}\".format(attention_weights.shape))"
      ],
      "execution_count": null,
      "outputs": [
        {
          "output_type": "stream",
          "text": [
            "Attention result shape: (batch size, units) (64, 1024)\n",
            "Attention weights shape: (batch_size, sequence_length, 1) (64, 16, 1)\n"
          ],
          "name": "stdout"
        }
      ]
    },
    {
      "cell_type": "code",
      "metadata": {
        "id": "3Txp6seN3jC6"
      },
      "source": [
        ""
      ],
      "execution_count": null,
      "outputs": []
    },
    {
      "cell_type": "code",
      "metadata": {
        "id": "Pvz3e0mj3jG0"
      },
      "source": [
        "class BahdanauAttention(tf.keras.layers.Layer):\n",
        "  def __init__(self, units):\n",
        "    super(BahdanauAttention, self).__init__()\n",
        "    self.W1 = tf.keras.layers.Dense(units)\n",
        "    self.W2 = tf.keras.layers.Dense(units)\n",
        "    self.V = tf.keras.layers.Dense(1)\n",
        "\n",
        "  def call(self, query, values):\n",
        "    # query hidden state shape == (batch_size, hidden size)\n",
        "    # query_with_time_axis shape == (batch_size, 1, hidden size)\n",
        "    # values shape == (batch_size, max_len, hidden size)\n",
        "    query_with_time_axis = tf.expand_dims(query, 1)\n",
        "\n",
        "    # score shape == (batch_size, max_length, 1)\n",
        "    # we get 1 at the last axis because we are applying score to self.V\n",
        "    # the shape of the tensor before applying self.V is (batch_size, max_length, units)\n",
        "    score = self.V(tf.nn.tanh(\n",
        "        self.W1(values) + self.W2(query_with_time_axis)))\n",
        "\n",
        "    # attention_weights shape == (batch_size, max_length, 1)\n",
        "    attention_weights = tf.nn.softmax(score, axis=1)\n",
        "\n",
        "    # context_vector shape after sum == (batch_size, hidden_size)\n",
        "    context_vector = attention_weights * values\n",
        "    context_vector = tf.reduce_sum(context_vector, axis=1)\n",
        "\n",
        "    return context_vector, attention_weights"
      ],
      "execution_count": null,
      "outputs": []
    },
    {
      "cell_type": "code",
      "metadata": {
        "id": "l_lu56JN3jLG"
      },
      "source": [
        ""
      ],
      "execution_count": null,
      "outputs": []
    },
    {
      "cell_type": "code",
      "metadata": {
        "id": "OyVCnaFn3jOn"
      },
      "source": [
        "class DecoderWithAttention(tf.keras.Model):\n",
        "  def __init__(self, vocab_size, embedding_dim, dec_units, batch_sz, attention_layer = None):\n",
        "    super(DecoderWithAttention, self).__init__()\n",
        "    self.batch_sz = batch_sz\n",
        "    self.dec_units = dec_units\n",
        "    self.embedding = tf.keras.layers.Embedding(vocab_size, embedding_dim)\n",
        "    self.gru = tf.keras.layers.GRU(self.dec_units,\n",
        "                                   return_sequences=True,\n",
        "                                   return_state=True,\n",
        "                                   recurrent_initializer='glorot_uniform')\n",
        "    self.fc = tf.keras.layers.Dense(vocab_size)\n",
        "\n",
        "    # used for attention\n",
        "    self.attention = attention_layer\n",
        "\n",
        "  def call(self, x, hidden, enc_output):\n",
        "    # x shape after passing through embedding == (batch_size, 1, embedding_dim)\n",
        "    x = self.embedding(x)\n",
        "    attention_weights = None\n",
        "    \n",
        "    if self.attention:\n",
        "      # enc_output shape == (batch_size, max_length, hidden_size)\n",
        "      context_vector, attention_weights = self.attention(hidden, enc_output)\n",
        "      # x shape after concatenation == (batch_size, 1, embedding_dim + hidden_size)\n",
        "      x = tf.concat([tf.expand_dims(context_vector, 1), x], axis=-1)\n",
        "\n",
        "    # passing the concatenated vector to the GRU\n",
        "    output, state = self.gru(x, initial_state = hidden)\n",
        "\n",
        "    # output shape == (batch_size * 1, hidden_size)\n",
        "    output = tf.reshape(output, (-1, output.shape[2]))\n",
        "\n",
        "    # output shape == (batch_size, vocab)\n",
        "    x = self.fc(output)\n",
        "\n",
        "    return x, state, attention_weights"
      ],
      "execution_count": null,
      "outputs": []
    },
    {
      "cell_type": "code",
      "metadata": {
        "id": "oQfUfyHA3jT5"
      },
      "source": [
        "loss_object = tf.keras.losses.SparseCategoricalCrossentropy(from_logits=True, reduction='none')\n",
        "\n",
        "def loss_function(real, pred):\n",
        "  mask = tf.math.logical_not(tf.math.equal(real, 0)) \n",
        "  loss_ = loss_object(real, pred)\n",
        "  mask = tf.cast(mask, dtype=loss_.dtype)\n",
        "  loss_ *= mask\n",
        "  return tf.reduce_mean(loss_)"
      ],
      "execution_count": null,
      "outputs": []
    },
    {
      "cell_type": "code",
      "metadata": {
        "colab": {
          "base_uri": "https://localhost:8080/"
        },
        "id": "YtWUs-sq3jX3",
        "outputId": "63deb39e-7475-4663-97aa-2d52378a4a71"
      },
      "source": [
        "print(loss_object([1,2],[[0,0.6,0.3,0.1],[0,0.6,0.3,0.1]]))\n",
        "print(loss_function([1,2],[[0,0.6,0.3,0.1],[0,0.6,0.3,0.1]]))"
      ],
      "execution_count": null,
      "outputs": [
        {
          "output_type": "stream",
          "text": [
            "tf.Tensor([1.063386  1.3633859], shape=(2,), dtype=float32)\n",
            "tf.Tensor(1.2133859, shape=(), dtype=float32)\n"
          ],
          "name": "stdout"
        }
      ]
    },
    {
      "cell_type": "markdown",
      "metadata": {
        "id": "32NObrq-4F9Y"
      },
      "source": [
        "# Training\n",
        "#### @tf.function In TensorFlow 2, eager execution is turned on by default. The user interface is intuitive and flexible (running one-off operations is much easier and faster), but this can come at the expense of performance and deployability. It is recommended to debug in eager mode, then decorate with @tf.function for better performance.\n",
        "#### In TensorFlow 2.0, users should refactor their code into smaller functions which are called as needed. In general, it's not necessary to decorate each of these smaller functions with tf.function; only use tf.function to decorate high-level computations - for example, one step of training, or the forward pass of your model.\n",
        "#### TensorFlow provides the tf.GradientTape API for automatic differentiation; that is, computing the gradient of a computation with respect to some inputs, usually tf.Variables. TensorFlow \"records\" relevant operations executed inside the context of a tf.GradientTape onto a \"tape\". TensorFlow then uses that tape to compute the gradients of a \"recorded\" computation using reverse mode differentiation.\n"
      ]
    },
    {
      "cell_type": "code",
      "metadata": {
        "id": "WkBU1iiU3jd_"
      },
      "source": [
        "optimizer = tf.keras.optimizers.Adam()\n",
        "\n",
        "def get_train_step_func():\n",
        "\n",
        "  @tf.function\n",
        "  def train_step(inp, targ, enc_hidden, encoder, decoder):\n",
        "    loss = 0\n",
        "\n",
        "    with tf.GradientTape() as tape: # for automatic differentiation\n",
        "      enc_output, enc_hidden = encoder(inp, enc_hidden)\n",
        "\n",
        "      dec_hidden = enc_hidden\n",
        "\n",
        "      dec_input = tf.expand_dims([targ_lang.word_index['<start>']] * BATCH_SIZE, 1)\n",
        "\n",
        "      # Teacher forcing - feeding the target as the next input\n",
        "      for t in range(1, targ.shape[1]):\n",
        "        # passing enc_output to the decoder\n",
        "        predictions, dec_hidden, _ = decoder(dec_input, dec_hidden, enc_output)\n",
        "\n",
        "        loss += loss_function(targ[:, t], predictions)\n",
        "\n",
        "        # using teacher forcing\n",
        "        dec_input = tf.expand_dims(targ[:, t], 1)\n",
        "\n",
        "    batch_loss = (loss / int(targ.shape[1]))\n",
        "\n",
        "    variables = encoder.trainable_variables + decoder.trainable_variables\n",
        "\n",
        "    gradients = tape.gradient(loss, variables)\n",
        "\n",
        "    optimizer.apply_gradients(zip(gradients, variables))\n",
        "\n",
        "    return batch_loss\n",
        "    \n",
        "  return train_step"
      ],
      "execution_count": null,
      "outputs": []
    },
    {
      "cell_type": "code",
      "metadata": {
        "id": "g4xhmH1z4N7W"
      },
      "source": [
        "def caculate_validation_loss(inp, targ, enc_hidden, encoder, decoder):\n",
        "  loss = 0\n",
        "  enc_output, enc_hidden = encoder(inp, enc_hidden)\n",
        "  dec_hidden = enc_hidden\n",
        "  dec_input = tf.expand_dims([targ_lang.word_index['<start>']] * BATCH_SIZE, 1)\n",
        "\n",
        "  # Teacher forcing - feeding the target as the next input\n",
        "  for t in range(1, targ.shape[1]):\n",
        "    predictions, dec_hidden, _ = decoder(dec_input, dec_hidden, enc_output)\n",
        "    loss += loss_function(targ[:, t], predictions)\n",
        "    dec_input = tf.expand_dims(targ[:, t], 1)\n",
        "\n",
        "  loss = loss / int(targ.shape[1])\n",
        "  return loss"
      ],
      "execution_count": null,
      "outputs": []
    },
    {
      "cell_type": "code",
      "metadata": {
        "id": "zyqOb7uu4OYZ"
      },
      "source": [
        "def training_seq2seq(epochs, attention):\n",
        "  encoder = Encoder(vocab_inp_size, embedding_dim, units, BATCH_SIZE)\n",
        "  decoder = DecoderWithAttention(vocab_tar_size, embedding_dim, units, BATCH_SIZE, attention)\n",
        "  train_step_func = get_train_step_func()\n",
        "  training_loss = []\n",
        "  validation_loss = []\n",
        "\n",
        "  for epoch in range(epochs):\n",
        "    start = time.time()\n",
        "    enc_hidden = encoder.initialize_hidden_state()\n",
        "    total_loss = 0\n",
        "\n",
        "    for (batch, (inp, targ)) in enumerate(dataset.take(steps_per_epoch)):\n",
        "      batch_loss = train_step_func(inp, targ, enc_hidden, encoder, decoder)\n",
        "      total_loss += batch_loss\n",
        "\n",
        "      if batch % 100 == 0:\n",
        "        print('Epoch {} Batch {} Loss {:.4f}'.format(epoch + 1, batch, batch_loss))\n",
        "        \n",
        "    enc_hidden = encoder.initialize_hidden_state()\n",
        "    total_val_loss = 0\n",
        "    for (batch, (inp, targ)) in enumerate(validation_dataset.take(steps_per_epoch)):\n",
        "      val_loss = caculate_validation_loss(inp, targ, enc_hidden, encoder, decoder)\n",
        "      total_val_loss += val_loss\n",
        "\n",
        "    training_loss.append(total_loss / steps_per_epoch)\n",
        "    validation_loss.append(total_val_loss / steps_per_epoch_val)\n",
        "    print('Epoch {} Loss {:.4f} Validation Loss {:.4f}'.format(epoch + 1,\n",
        "                                        training_loss[-1], validation_loss[-1]))\n",
        "    print('Time taken for 1 epoch {} sec\\n'.format(time.time() - start))\n",
        "  return encoder, decoder, training_loss, validation_loss"
      ],
      "execution_count": null,
      "outputs": []
    },
    {
      "cell_type": "markdown",
      "metadata": {
        "id": "LZ54SNVo6Y4u"
      },
      "source": [
        "# Training seq2seq without attention"
      ]
    },
    {
      "cell_type": "code",
      "metadata": {
        "colab": {
          "base_uri": "https://localhost:8080/"
        },
        "id": "IqfYpYif4OdF",
        "outputId": "26c7beb2-3e61-4d75-9898-5b51ad2b73c4"
      },
      "source": [
        "epochs = 10\n",
        "attention = None\n",
        "\n",
        "print(\"Running seq2seq model without attention\")\n",
        "encoder, decoder, training_loss, validation_loss = training_seq2seq(epochs, attention)\n",
        "\n",
        "tloss = training_loss\n",
        "vloss = validation_loss"
      ],
      "execution_count": null,
      "outputs": [
        {
          "output_type": "stream",
          "text": [
            "Running seq2seq model without attention\n",
            "Epoch 1 Batch 0 Loss 4.6748\n",
            "Epoch 1 Batch 100 Loss 1.9090\n",
            "Epoch 1 Batch 200 Loss 1.5966\n",
            "Epoch 1 Batch 300 Loss 1.4434\n",
            "Epoch 1 Loss 1.8035 Validation Loss 1.3420\n",
            "Time taken for 1 epoch 37.54328489303589 sec\n",
            "\n",
            "Epoch 2 Batch 0 Loss 1.1774\n",
            "Epoch 2 Batch 100 Loss 1.1825\n",
            "Epoch 2 Batch 200 Loss 1.0722\n",
            "Epoch 2 Batch 300 Loss 0.9067\n",
            "Epoch 2 Loss 1.0631 Validation Loss 1.0422\n",
            "Time taken for 1 epoch 30.755150318145752 sec\n",
            "\n",
            "Epoch 3 Batch 0 Loss 0.8281\n",
            "Epoch 3 Batch 100 Loss 0.8404\n",
            "Epoch 3 Batch 200 Loss 0.7021\n",
            "Epoch 3 Batch 300 Loss 0.6920\n",
            "Epoch 3 Loss 0.7172 Validation Loss 0.9053\n",
            "Time taken for 1 epoch 30.81467914581299 sec\n",
            "\n",
            "Epoch 4 Batch 0 Loss 0.4220\n",
            "Epoch 4 Batch 100 Loss 0.4545\n",
            "Epoch 4 Batch 200 Loss 0.4657\n",
            "Epoch 4 Batch 300 Loss 0.5227\n",
            "Epoch 4 Loss 0.4773 Validation Loss 0.8342\n",
            "Time taken for 1 epoch 30.40312147140503 sec\n",
            "\n",
            "Epoch 5 Batch 0 Loss 0.3079\n",
            "Epoch 5 Batch 100 Loss 0.2585\n",
            "Epoch 5 Batch 200 Loss 0.2499\n",
            "Epoch 5 Batch 300 Loss 0.2992\n",
            "Epoch 5 Loss 0.3137 Validation Loss 0.8090\n",
            "Time taken for 1 epoch 30.378618717193604 sec\n",
            "\n",
            "Epoch 6 Batch 0 Loss 0.1822\n",
            "Epoch 6 Batch 100 Loss 0.1987\n",
            "Epoch 6 Batch 200 Loss 0.2013\n",
            "Epoch 6 Batch 300 Loss 0.2207\n",
            "Epoch 6 Loss 0.2064 Validation Loss 0.8085\n",
            "Time taken for 1 epoch 30.31775164604187 sec\n",
            "\n",
            "Epoch 7 Batch 0 Loss 0.1220\n",
            "Epoch 7 Batch 100 Loss 0.1706\n",
            "Epoch 7 Batch 200 Loss 0.1316\n",
            "Epoch 7 Batch 300 Loss 0.1948\n",
            "Epoch 7 Loss 0.1410 Validation Loss 0.8121\n",
            "Time taken for 1 epoch 30.277885913848877 sec\n",
            "\n",
            "Epoch 8 Batch 0 Loss 0.1035\n",
            "Epoch 8 Batch 100 Loss 0.1018\n",
            "Epoch 8 Batch 200 Loss 0.1186\n",
            "Epoch 8 Batch 300 Loss 0.0841\n",
            "Epoch 8 Loss 0.1018 Validation Loss 0.8261\n",
            "Time taken for 1 epoch 30.24387264251709 sec\n",
            "\n",
            "Epoch 9 Batch 0 Loss 0.0686\n",
            "Epoch 9 Batch 100 Loss 0.0607\n",
            "Epoch 9 Batch 200 Loss 0.0808\n",
            "Epoch 9 Batch 300 Loss 0.0844\n",
            "Epoch 9 Loss 0.0815 Validation Loss 0.8267\n",
            "Time taken for 1 epoch 30.174956560134888 sec\n",
            "\n",
            "Epoch 10 Batch 0 Loss 0.0593\n",
            "Epoch 10 Batch 100 Loss 0.0799\n",
            "Epoch 10 Batch 200 Loss 0.0576\n",
            "Epoch 10 Batch 300 Loss 0.0728\n",
            "Epoch 10 Loss 0.0673 Validation Loss 0.8465\n",
            "Time taken for 1 epoch 30.247004985809326 sec\n",
            "\n"
          ],
          "name": "stdout"
        }
      ]
    },
    {
      "cell_type": "markdown",
      "metadata": {
        "id": "Ag5ybt2m4a-P"
      },
      "source": [
        "# Training seq2seq with dot product attention"
      ]
    },
    {
      "cell_type": "code",
      "metadata": {
        "colab": {
          "base_uri": "https://localhost:8080/"
        },
        "id": "2pna5zPj4Ohr",
        "outputId": "b16d2888-8108-455e-ec82-8dba84cb384f"
      },
      "source": [
        "attention = DotProductAttention()\n",
        "print(\"Running seq2seq model with dot product attention\")\n",
        "encoder_dp, decoder_dp, training_loss, validation_loss = training_seq2seq(epochs, attention)\n",
        "\n",
        "tloss = np.vstack((tloss, training_loss))\n",
        "vloss = np.vstack((vloss, validation_loss))"
      ],
      "execution_count": null,
      "outputs": [
        {
          "output_type": "stream",
          "text": [
            "Running seq2seq model with dot product attention\n",
            "Epoch 1 Batch 0 Loss 4.6020\n",
            "Epoch 1 Batch 100 Loss 2.3719\n",
            "Epoch 1 Batch 200 Loss 1.8848\n",
            "Epoch 1 Batch 300 Loss 1.7822\n",
            "Epoch 1 Loss 2.2982 Validation Loss 1.6660\n",
            "Time taken for 1 epoch 42.10916471481323 sec\n",
            "\n",
            "Epoch 2 Batch 0 Loss 1.4742\n",
            "Epoch 2 Batch 100 Loss 1.3902\n",
            "Epoch 2 Batch 200 Loss 1.3123\n",
            "Epoch 2 Batch 300 Loss 1.2529\n",
            "Epoch 2 Loss 1.3757 Validation Loss 1.3771\n",
            "Time taken for 1 epoch 34.258906841278076 sec\n",
            "\n",
            "Epoch 3 Batch 0 Loss 1.1034\n",
            "Epoch 3 Batch 100 Loss 1.0286\n",
            "Epoch 3 Batch 200 Loss 1.0179\n",
            "Epoch 3 Batch 300 Loss 0.9118\n",
            "Epoch 3 Loss 1.0617 Validation Loss 1.2145\n",
            "Time taken for 1 epoch 34.25757074356079 sec\n",
            "\n",
            "Epoch 4 Batch 0 Loss 0.8115\n",
            "Epoch 4 Batch 100 Loss 0.9374\n",
            "Epoch 4 Batch 200 Loss 0.8768\n",
            "Epoch 4 Batch 300 Loss 0.9101\n",
            "Epoch 4 Loss 0.8465 Validation Loss 1.1165\n",
            "Time taken for 1 epoch 34.25483560562134 sec\n",
            "\n",
            "Epoch 5 Batch 0 Loss 0.6526\n",
            "Epoch 5 Batch 100 Loss 0.7334\n",
            "Epoch 5 Batch 200 Loss 0.6811\n",
            "Epoch 5 Batch 300 Loss 0.5890\n",
            "Epoch 5 Loss 0.6891 Validation Loss 1.0540\n",
            "Time taken for 1 epoch 34.08797645568848 sec\n",
            "\n",
            "Epoch 6 Batch 0 Loss 0.5751\n",
            "Epoch 6 Batch 100 Loss 0.4875\n",
            "Epoch 6 Batch 200 Loss 0.6401\n",
            "Epoch 6 Batch 300 Loss 0.5954\n",
            "Epoch 6 Loss 0.5646 Validation Loss 1.0005\n",
            "Time taken for 1 epoch 34.1778838634491 sec\n",
            "\n",
            "Epoch 7 Batch 0 Loss 0.4089\n",
            "Epoch 7 Batch 100 Loss 0.4293\n",
            "Epoch 7 Batch 200 Loss 0.4627\n",
            "Epoch 7 Batch 300 Loss 0.4226\n",
            "Epoch 7 Loss 0.4707 Validation Loss 0.9671\n",
            "Time taken for 1 epoch 33.84042954444885 sec\n",
            "\n",
            "Epoch 8 Batch 0 Loss 0.3503\n",
            "Epoch 8 Batch 100 Loss 0.3522\n",
            "Epoch 8 Batch 200 Loss 0.4208\n",
            "Epoch 8 Batch 300 Loss 0.4689\n",
            "Epoch 8 Loss 0.3963 Validation Loss 0.9529\n",
            "Time taken for 1 epoch 33.81192064285278 sec\n",
            "\n",
            "Epoch 9 Batch 0 Loss 0.3464\n",
            "Epoch 9 Batch 100 Loss 0.3025\n",
            "Epoch 9 Batch 200 Loss 0.2928\n",
            "Epoch 9 Batch 300 Loss 0.3862\n",
            "Epoch 9 Loss 0.3357 Validation Loss 0.9381\n",
            "Time taken for 1 epoch 34.45353388786316 sec\n",
            "\n",
            "Epoch 10 Batch 0 Loss 0.2825\n",
            "Epoch 10 Batch 100 Loss 0.2447\n",
            "Epoch 10 Batch 200 Loss 0.3249\n",
            "Epoch 10 Batch 300 Loss 0.3525\n",
            "Epoch 10 Loss 0.2875 Validation Loss 0.9277\n",
            "Time taken for 1 epoch 34.72526526451111 sec\n",
            "\n"
          ],
          "name": "stdout"
        }
      ]
    },
    {
      "cell_type": "markdown",
      "metadata": {
        "id": "FmW3BU2Q4reF"
      },
      "source": [
        "# Training seq2seq with Bahdanau attention¶"
      ]
    },
    {
      "cell_type": "code",
      "metadata": {
        "colab": {
          "base_uri": "https://localhost:8080/"
        },
        "id": "Co5u0tEo4OnK",
        "outputId": "a31c3186-4f68-416a-adcb-878d57a633c1"
      },
      "source": [
        "epochs = 10\n",
        "\n",
        "attention = BahdanauAttention(units)\n",
        "print(\"Running seq2seq model with Bahdanau attention\")\n",
        "encoder_bah, decoder_bah, training_loss, validation_loss = training_seq2seq(epochs, attention)\n",
        "\n",
        "tloss = np.vstack((tloss, training_loss))\n",
        "vloss = np.vstack((vloss, validation_loss))"
      ],
      "execution_count": null,
      "outputs": [
        {
          "output_type": "stream",
          "text": [
            "Running seq2seq model with Bahdanau attention\n",
            "Epoch 1 Batch 0 Loss 4.7967\n",
            "Epoch 1 Batch 100 Loss 1.8333\n",
            "Epoch 1 Batch 200 Loss 1.6482\n",
            "Epoch 1 Batch 300 Loss 1.2940\n",
            "Epoch 1 Loss 1.7003 Validation Loss 1.2018\n",
            "Time taken for 1 epoch 51.86678433418274 sec\n",
            "\n",
            "Epoch 2 Batch 0 Loss 0.9175\n",
            "Epoch 2 Batch 100 Loss 0.8615\n",
            "Epoch 2 Batch 200 Loss 0.9505\n",
            "Epoch 2 Batch 300 Loss 0.8941\n",
            "Epoch 2 Loss 0.8752 Validation Loss 0.9140\n",
            "Time taken for 1 epoch 43.20350956916809 sec\n",
            "\n",
            "Epoch 3 Batch 0 Loss 0.4952\n",
            "Epoch 3 Batch 100 Loss 0.5564\n",
            "Epoch 3 Batch 200 Loss 0.5878\n",
            "Epoch 3 Batch 300 Loss 0.4989\n",
            "Epoch 3 Loss 0.5113 Validation Loss 0.8162\n",
            "Time taken for 1 epoch 43.01873302459717 sec\n",
            "\n",
            "Epoch 4 Batch 0 Loss 0.3042\n",
            "Epoch 4 Batch 100 Loss 0.2762\n",
            "Epoch 4 Batch 200 Loss 0.3203\n",
            "Epoch 4 Batch 300 Loss 0.3070\n",
            "Epoch 4 Loss 0.3059 Validation Loss 0.7858\n",
            "Time taken for 1 epoch 43.05774998664856 sec\n",
            "\n",
            "Epoch 5 Batch 0 Loss 0.1847\n",
            "Epoch 5 Batch 100 Loss 0.1588\n",
            "Epoch 5 Batch 200 Loss 0.1681\n",
            "Epoch 5 Batch 300 Loss 0.1780\n",
            "Epoch 5 Loss 0.1935 Validation Loss 0.7826\n",
            "Time taken for 1 epoch 43.135497093200684 sec\n",
            "\n",
            "Epoch 6 Batch 0 Loss 0.1224\n",
            "Epoch 6 Batch 100 Loss 0.1106\n",
            "Epoch 6 Batch 200 Loss 0.1234\n",
            "Epoch 6 Batch 300 Loss 0.1027\n",
            "Epoch 6 Loss 0.1301 Validation Loss 0.7858\n",
            "Time taken for 1 epoch 43.086588859558105 sec\n",
            "\n",
            "Epoch 7 Batch 0 Loss 0.0835\n",
            "Epoch 7 Batch 100 Loss 0.0869\n",
            "Epoch 7 Batch 200 Loss 0.0988\n",
            "Epoch 7 Batch 300 Loss 0.0773\n",
            "Epoch 7 Loss 0.0945 Validation Loss 0.7909\n",
            "Time taken for 1 epoch 43.145376443862915 sec\n",
            "\n",
            "Epoch 8 Batch 0 Loss 0.0777\n",
            "Epoch 8 Batch 100 Loss 0.0690\n",
            "Epoch 8 Batch 200 Loss 0.0873\n",
            "Epoch 8 Batch 300 Loss 0.0884\n",
            "Epoch 8 Loss 0.0750 Validation Loss 0.8001\n",
            "Time taken for 1 epoch 43.23190379142761 sec\n",
            "\n",
            "Epoch 9 Batch 0 Loss 0.0328\n",
            "Epoch 9 Batch 100 Loss 0.0482\n",
            "Epoch 9 Batch 200 Loss 0.0621\n",
            "Epoch 9 Batch 300 Loss 0.0721\n",
            "Epoch 9 Loss 0.0627 Validation Loss 0.8130\n",
            "Time taken for 1 epoch 42.99381422996521 sec\n",
            "\n",
            "Epoch 10 Batch 0 Loss 0.0263\n",
            "Epoch 10 Batch 100 Loss 0.0535\n",
            "Epoch 10 Batch 200 Loss 0.0534\n",
            "Epoch 10 Batch 300 Loss 0.0677\n",
            "Epoch 10 Loss 0.0558 Validation Loss 0.8164\n",
            "Time taken for 1 epoch 42.998420000076294 sec\n",
            "\n"
          ],
          "name": "stdout"
        }
      ]
    },
    {
      "cell_type": "code",
      "metadata": {
        "colab": {
          "base_uri": "https://localhost:8080/",
          "height": 298
        },
        "id": "tzMM7MZf4Org",
        "outputId": "32b3a8ae-ba14-4253-df18-7f482fc57467"
      },
      "source": [
        "import matplotlib.pyplot as plt\n",
        "\n",
        "ax = plt.subplot(111) \n",
        "t = np.arange(1, epochs+1)\n",
        "\n",
        "for i in range(0, vloss.shape[0]):\n",
        "  line, = plt.plot(t, vloss[i,:], lw=2)\n",
        "\n",
        "ax.legend(('No attention', 'Dot product', 'Bahdanau'))\n",
        "ax.set_title(\"Validation loss\")"
      ],
      "execution_count": null,
      "outputs": [
        {
          "output_type": "execute_result",
          "data": {
            "text/plain": [
              "Text(0.5, 1.0, 'Validation loss')"
            ]
          },
          "metadata": {
            "tags": []
          },
          "execution_count": 29
        },
        {
          "output_type": "display_data",
          "data": {
            "image/png": "[encoded data removed]",
            "text/plain": [
              "<Figure size 432x288 with 1 Axes>"
            ]
          },
          "metadata": {
            "tags": [],
            "needs_background": "light"
          }
        }
      ]
    },
    {
      "cell_type": "markdown",
      "metadata": {
        "id": "neej4zs846FJ"
      },
      "source": [
        "# Translation"
      ]
    },
    {
      "cell_type": "code",
      "metadata": {
        "id": "vqayyYms4Owz"
      },
      "source": [
        "def translate(sentence, encoder, decoder):\n",
        "  attention_plot = np.zeros((max_length_targ, max_length_inp))\n",
        "\n",
        "  sentence = preprocess_sentence(sentence)\n",
        "\n",
        "  inputs = [inp_lang.word_index[i] for i in sentence.split(' ')]\n",
        "  inputs = tf.keras.preprocessing.sequence.pad_sequences([inputs],\n",
        "                                                         maxlen=max_length_inp,\n",
        "                                                         padding='post')\n",
        "  inputs = tf.convert_to_tensor(inputs)\n",
        "\n",
        "  result = ''\n",
        "\n",
        "  hidden = [tf.zeros((1, units))]\n",
        "  enc_out, enc_hidden = encoder(inputs, hidden)\n",
        "\n",
        "  dec_hidden = enc_hidden\n",
        "  dec_input = tf.expand_dims([targ_lang.word_index['<start>']], 0)\n",
        "\n",
        "  for t in range(max_length_targ):\n",
        "    predictions, dec_hidden, attention_weights = decoder(dec_input,\n",
        "                                                         dec_hidden,\n",
        "                                                         enc_out)\n",
        "\n",
        "    predicted_id = tf.argmax(predictions[0]).numpy()\n",
        "\n",
        "    result += targ_lang.index_word[predicted_id] + ' '\n",
        "\n",
        "    # until the predicted word is <end>.\n",
        "    if targ_lang.index_word[predicted_id] == '<end>':\n",
        "      return result, sentence\n",
        "\n",
        "    # the predicted ID is fed back into the model, no teacher forcing.\n",
        "    dec_input = tf.expand_dims([predicted_id], 0)\n",
        "\n",
        "  return result, sentence"
      ],
      "execution_count": null,
      "outputs": []
    },
    {
      "cell_type": "code",
      "metadata": {
        "colab": {
          "base_uri": "https://localhost:8080/"
        },
        "id": "GyafI3e-4O3F",
        "outputId": "4520da3b-9434-4d4a-bf4c-e0450f3bf0b8"
      },
      "source": [
        "result, sentence = translate(u'esta es mi vida.', encoder_bah, decoder_bah)\n",
        "print('Input: %s' % (sentence))\n",
        "print('Predicted translation: {}'.format(result))"
      ],
      "execution_count": null,
      "outputs": [
        {
          "output_type": "stream",
          "text": [
            "Input: <start> esta es mi vida . <end>\n",
            "Predicted translation: this is my life . <end> \n"
          ],
          "name": "stdout"
        }
      ]
    },
    {
      "cell_type": "code",
      "metadata": {
        "colab": {
          "base_uri": "https://localhost:8080/"
        },
        "id": "nUi7dcnw4O8v",
        "outputId": "2f91f7e0-c27f-484a-bd8c-d3c66985305c"
      },
      "source": [
        "result, sentence = translate(u'esta es mi vida.', encoder_dp, decoder_dp)\n",
        "print('Input: %s' % (sentence))\n",
        "print('Predicted translation: {}'.format(result))"
      ],
      "execution_count": null,
      "outputs": [
        {
          "output_type": "stream",
          "text": [
            "Input: <start> esta es mi vida . <end>\n",
            "Predicted translation: this is my life . <end> \n"
          ],
          "name": "stdout"
        }
      ]
    },
    {
      "cell_type": "code",
      "metadata": {
        "colab": {
          "base_uri": "https://localhost:8080/"
        },
        "id": "RAe7K1Hh4PDO",
        "outputId": "6fe1981a-1aef-4c5d-8c3e-072e4e39077e"
      },
      "source": [
        "result, sentence = translate(u'¿todavia estan en casa?', encoder_bah, decoder_bah)\n",
        "print('Input: %s' % (sentence))\n",
        "print('Predicted translation: {}'.format(result))"
      ],
      "execution_count": null,
      "outputs": [
        {
          "output_type": "stream",
          "text": [
            "Input: <start> ¿ todavia estan en casa ? <end>\n",
            "Predicted translation: are you still at home ? <end> \n"
          ],
          "name": "stdout"
        }
      ]
    },
    {
      "cell_type": "markdown",
      "metadata": {
        "id": "l9_SovDv5FW4"
      },
      "source": [
        "#Next Steps\n",
        "## Training on larger dataset\n",
        "## Model tuning\n",
        "## Try out other attention scores such as multiplicative\n",
        "## Train on other seq2seq tasks"
      ]
    },
    {
      "cell_type": "code",
      "metadata": {
        "id": "4h1whsQc4PJn"
      },
      "source": [
        ""
      ],
      "execution_count": null,
      "outputs": []
    }
  ]
}